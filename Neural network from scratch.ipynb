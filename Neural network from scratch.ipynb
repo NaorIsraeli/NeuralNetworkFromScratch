{
 "cells": [
  {
   "cell_type": "code",
   "execution_count": 1,
   "id": "cfe37a1e",
   "metadata": {},
   "outputs": [],
   "source": [
    "import numpy as np\n",
    "import pandas as pd\n",
    "from matplotlib import pyplot as plt"
   ]
  },
  {
   "cell_type": "markdown",
   "id": "80bb54b6",
   "metadata": {},
   "source": [
    "## Exploring the data"
   ]
  },
  {
   "cell_type": "code",
   "execution_count": 2,
   "id": "7240cc38",
   "metadata": {},
   "outputs": [],
   "source": [
    "from keras.datasets import mnist\n",
    "(train_X, train_y), (test_X, test_y) = mnist.load_data()"
   ]
  },
  {
   "cell_type": "code",
   "execution_count": 3,
   "id": "f364c2ca",
   "metadata": {},
   "outputs": [
    {
     "name": "stdout",
     "output_type": "stream",
     "text": [
      "X_train: (60000, 28, 28)\n",
      "Y_train: (60000,)\n",
      "X_test:  (10000, 28, 28)\n",
      "Y_test:  (10000,)\n"
     ]
    }
   ],
   "source": [
    "print('X_train: ' + str(train_X.shape))\n",
    "print('Y_train: ' + str(train_y.shape))\n",
    "print('X_test:  '  + str(test_X.shape))\n",
    "print('Y_test:  '  + str(test_y.shape))"
   ]
  },
  {
   "cell_type": "code",
   "execution_count": 4,
   "id": "d5e4e9f9",
   "metadata": {},
   "outputs": [
    {
     "data": {
      "image/png": "[encoded data removed]",
      "text/plain": [
       "<Figure size 640x480 with 9 Axes>"
      ]
     },
     "metadata": {},
     "output_type": "display_data"
    }
   ],
   "source": [
    "for i in range(9):\n",
    "    plt.subplot(330 + 1 + i) # the size of the image\n",
    "    plt.imshow(train_X[i], cmap=plt.get_cmap('gray'))"
   ]
  },
  {
   "cell_type": "code",
   "execution_count": 5,
   "id": "90005bf8",
   "metadata": {},
   "outputs": [
    {
     "data": {
      "text/html": [
       "<div>\n",
       "<style scoped>\n",
       "    .dataframe tbody tr th:only-of-type {\n",
       "        vertical-align: middle;\n",
       "    }\n",
       "\n",
       "    .dataframe tbody tr th {\n",
       "        vertical-align: top;\n",
       "    }\n",
       "\n",
       "    .dataframe thead th {\n",
       "        text-align: right;\n",
       "    }\n",
       "</style>\n",
       "<table border=\"1\" class=\"dataframe\">\n",
       "  <thead>\n",
       "    <tr style=\"text-align: right;\">\n",
       "      <th></th>\n",
       "      <th>0</th>\n",
       "      <th>1</th>\n",
       "      <th>2</th>\n",
       "      <th>3</th>\n",
       "      <th>4</th>\n",
       "      <th>5</th>\n",
       "      <th>6</th>\n",
       "      <th>7</th>\n",
       "      <th>8</th>\n",
       "      <th>9</th>\n",
       "      <th>...</th>\n",
       "      <th>774</th>\n",
       "      <th>775</th>\n",
       "      <th>776</th>\n",
       "      <th>777</th>\n",
       "      <th>778</th>\n",
       "      <th>779</th>\n",
       "      <th>780</th>\n",
       "      <th>781</th>\n",
       "      <th>782</th>\n",
       "      <th>783</th>\n",
       "    </tr>\n",
       "  </thead>\n",
       "  <tbody>\n",
       "    <tr>\n",
       "      <th>0</th>\n",
       "      <td>0</td>\n",
       "      <td>0</td>\n",
       "      <td>0</td>\n",
       "      <td>0</td>\n",
       "      <td>0</td>\n",
       "      <td>0</td>\n",
       "      <td>0</td>\n",
       "      <td>0</td>\n",
       "      <td>0</td>\n",
       "      <td>0</td>\n",
       "      <td>...</td>\n",
       "      <td>0</td>\n",
       "      <td>0</td>\n",
       "      <td>0</td>\n",
       "      <td>0</td>\n",
       "      <td>0</td>\n",
       "      <td>0</td>\n",
       "      <td>0</td>\n",
       "      <td>0</td>\n",
       "      <td>0</td>\n",
       "      <td>0</td>\n",
       "    </tr>\n",
       "    <tr>\n",
       "      <th>1</th>\n",
       "      <td>0</td>\n",
       "      <td>0</td>\n",
       "      <td>0</td>\n",
       "      <td>0</td>\n",
       "      <td>0</td>\n",
       "      <td>0</td>\n",
       "      <td>0</td>\n",
       "      <td>0</td>\n",
       "      <td>0</td>\n",
       "      <td>0</td>\n",
       "      <td>...</td>\n",
       "      <td>0</td>\n",
       "      <td>0</td>\n",
       "      <td>0</td>\n",
       "      <td>0</td>\n",
       "      <td>0</td>\n",
       "      <td>0</td>\n",
       "      <td>0</td>\n",
       "      <td>0</td>\n",
       "      <td>0</td>\n",
       "      <td>0</td>\n",
       "    </tr>\n",
       "    <tr>\n",
       "      <th>2</th>\n",
       "      <td>0</td>\n",
       "      <td>0</td>\n",
       "      <td>0</td>\n",
       "      <td>0</td>\n",
       "      <td>0</td>\n",
       "      <td>0</td>\n",
       "      <td>0</td>\n",
       "      <td>0</td>\n",
       "      <td>0</td>\n",
       "      <td>0</td>\n",
       "      <td>...</td>\n",
       "      <td>0</td>\n",
       "      <td>0</td>\n",
       "      <td>0</td>\n",
       "      <td>0</td>\n",
       "      <td>0</td>\n",
       "      <td>0</td>\n",
       "      <td>0</td>\n",
       "      <td>0</td>\n",
       "      <td>0</td>\n",
       "      <td>0</td>\n",
       "    </tr>\n",
       "    <tr>\n",
       "      <th>3</th>\n",
       "      <td>0</td>\n",
       "      <td>0</td>\n",
       "      <td>0</td>\n",
       "      <td>0</td>\n",
       "      <td>0</td>\n",
       "      <td>0</td>\n",
       "      <td>0</td>\n",
       "      <td>0</td>\n",
       "      <td>0</td>\n",
       "      <td>0</td>\n",
       "      <td>...</td>\n",
       "      <td>0</td>\n",
       "      <td>0</td>\n",
       "      <td>0</td>\n",
       "      <td>0</td>\n",
       "      <td>0</td>\n",
       "      <td>0</td>\n",
       "      <td>0</td>\n",
       "      <td>0</td>\n",
       "      <td>0</td>\n",
       "      <td>0</td>\n",
       "    </tr>\n",
       "    <tr>\n",
       "      <th>4</th>\n",
       "      <td>0</td>\n",
       "      <td>0</td>\n",
       "      <td>0</td>\n",
       "      <td>0</td>\n",
       "      <td>0</td>\n",
       "      <td>0</td>\n",
       "      <td>0</td>\n",
       "      <td>0</td>\n",
       "      <td>0</td>\n",
       "      <td>0</td>\n",
       "      <td>...</td>\n",
       "      <td>0</td>\n",
       "      <td>0</td>\n",
       "      <td>0</td>\n",
       "      <td>0</td>\n",
       "      <td>0</td>\n",
       "      <td>0</td>\n",
       "      <td>0</td>\n",
       "      <td>0</td>\n",
       "      <td>0</td>\n",
       "      <td>0</td>\n",
       "    </tr>\n",
       "  </tbody>\n",
       "</table>\n",
       "<p>5 rows × 784 columns</p>\n",
       "</div>"
      ],
      "text/plain": [
       "   0    1    2    3    4    5    6    7    8    9    ...  774  775  776  777  \\\n",
       "0    0    0    0    0    0    0    0    0    0    0  ...    0    0    0    0   \n",
       "1    0    0    0    0    0    0    0    0    0    0  ...    0    0    0    0   \n",
       "2    0    0    0    0    0    0    0    0    0    0  ...    0    0    0    0   \n",
       "3    0    0    0    0    0    0    0    0    0    0  ...    0    0    0    0   \n",
       "4    0    0    0    0    0    0    0    0    0    0  ...    0    0    0    0   \n",
       "\n",
       "   778  779  780  781  782  783  \n",
       "0    0    0    0    0    0    0  \n",
       "1    0    0    0    0    0    0  \n",
       "2    0    0    0    0    0    0  \n",
       "3    0    0    0    0    0    0  \n",
       "4    0    0    0    0    0    0  \n",
       "\n",
       "[5 rows x 784 columns]"
      ]
     },
     "execution_count": 5,
     "metadata": {},
     "output_type": "execute_result"
    }
   ],
   "source": [
    "pd.DataFrame(train_X.reshape([60000,28*28])).head()"
   ]
  },
  {
   "cell_type": "markdown",
   "id": "ea1fdbce",
   "metadata": {},
   "source": [
    "## Scaling the data"
   ]
  },
  {
   "cell_type": "code",
   "execution_count": 6,
   "id": "6b1b69bd",
   "metadata": {},
   "outputs": [],
   "source": [
    "from sklearn.preprocessing import MinMaxScaler\n",
    "scaler = MinMaxScaler()\n",
    "X_train = scaler.fit_transform(train_X.reshape(60000,784))\n",
    "X_test = scaler.transform(test_X.reshape(10000,784))\n",
    "# standard scaling didnt work well because its not fit to this type of data where\n",
    "# the valus is mostly 0."
   ]
  },
  {
   "cell_type": "markdown",
   "id": "581f9a97",
   "metadata": {},
   "source": [
    "## one hot encoding the labels"
   ]
  },
  {
   "cell_type": "code",
   "execution_count": 7,
   "id": "43b5ad38",
   "metadata": {},
   "outputs": [],
   "source": [
    "from sklearn.preprocessing import OneHotEncoder"
   ]
  },
  {
   "cell_type": "code",
   "execution_count": 8,
   "id": "23f36296",
   "metadata": {},
   "outputs": [],
   "source": [
    "enc = OneHotEncoder()\n",
    "train_y = train_y.reshape([60000,1])\n",
    "test_y = test_y.reshape([10000,1])\n",
    "y_train = enc.fit_transform(train_y)\n",
    "y_test = enc.transform(test_y)\n",
    "y_train_np =y_train.toarray()\n",
    "y_test_np =y_test.toarray()"
   ]
  },
  {
   "cell_type": "markdown",
   "id": "d8c13fd5",
   "metadata": {},
   "source": [
    "# Creating our network"
   ]
  },
  {
   "cell_type": "code",
   "execution_count": 37,
   "id": "b6e518c8",
   "metadata": {},
   "outputs": [],
   "source": [
    "def sigmoid_func(x):\n",
    "    return 1./(1+np.exp(-x))\n",
    "\n",
    "def d_sigmoid_func(x):\n",
    "    return sigmoid_func(x)*(1-sigmoid_func(x))\n",
    "\n",
    "def relu_func(x):\n",
    "    return np.maximum(0.,x)\n",
    "\n",
    "def d_relu_func(x):\n",
    "    return np.greater(x, 0.).astype(np.float32)"
   ]
  },
  {
   "cell_type": "code",
   "execution_count": 10,
   "id": "6ab37aed",
   "metadata": {},
   "outputs": [
    {
     "name": "stdout",
     "output_type": "stream",
     "text": [
      "the total error before training is: 47.622858966516596\n",
      "the total error is: 42.85770063360657\n"
     ]
    }
   ],
   "source": [
    "X_train_slice = X_train[:1000,:]\n",
    "y_train_slice = y_train_np[:1000,:]\n",
    "a1_out = X_train_slice.reshape(1000, 784)\n",
    "\n",
    "w1 = np.random.random_sample((784,10))\n",
    "bias1 = np.random.random_sample((1,10))\n",
    "\n",
    "w2 = np.random.random_sample((10,10))\n",
    "bias2 = np.random.random_sample((1,10))\n",
    "\n",
    "w3 = np.random.random_sample((10,10))\n",
    "bias3 = np.random.random_sample((1,10))\n",
    "\n",
    "lr = 0.0001\n",
    "E=0\n",
    "epoches=10\n",
    "for epoch in range(epoches):\n",
    "    a2_net = np.matmul(a1_out,w1)+bias1\n",
    "    a2_out = sigmoid_func(a2_net)\n",
    "    a3_net = np.matmul(a2_out,w2)+bias2\n",
    "    a3_out = sigmoid_func(a3_net)\n",
    "    a4_net = np.matmul(a3_out,w3)+bias3\n",
    "    a4_out = sigmoid_func(a4_net)\n",
    "        \n",
    "    delta_a4 = (1/y_train_slice.shape[0])*-(y_train_slice - a4_out)*a4_out*(1-a4_out)\n",
    "    E_d_w3 = np.matmul(a3_out.T,delta_a4)\n",
    "    delta_a3 =np.matmul( np.matmul(delta_a4, w3), (np.matmul((1-a3_out.T), a3_out)))\n",
    "    E_d_w2 = np.matmul(a2_out.T,delta_a3)\n",
    "    delta_a2 =np.matmul( np.matmul(delta_a3, w2), (np.matmul((1-a2_out.T), a2_out)))\n",
    "    E_d_w1 = np.matmul(a1_out.T,delta_a2)\n",
    "\n",
    "    w1 -= lr*E_d_w1\n",
    "    w2 -= lr*E_d_w2\n",
    "    w3 -= lr*E_d_w3\n",
    "    bias1-=lr*np.sum(delta_a2)\n",
    "    bias2-=lr*np.sum(delta_a3.T)\n",
    "    bias3-=lr*np.sum(delta_a4)\n",
    "    if epoch==0:\n",
    "        E_total = (-1/y_train_slice.shape[0])*np.sum(y_train_slice*np.log(a4_out)+(1-y_train_slice)*np.log(1-a4_out))\n",
    "        print(\"the total error before training is: \"+str(E_total))\n",
    "    elif epoch>=(epoches-10):\n",
    "        E_total = (-1/y_train_slice.shape[0])*np.sum(y_train_slice*np.log(a4_out)+(1-y_train_slice)*np.log(1-a4_out))\n",
    "        E+=E_total\n",
    "E_total = (-1/y_train_slice.shape[0])*np.sum(y_train_slice*np.log(a4_out)+(1-y_train_slice)*np.log(1-a4_out))\n",
    "print(\"the total error is: \"+str(E/10))"
   ]
  },
  {
   "cell_type": "markdown",
   "id": "9c3b354d",
   "metadata": {},
   "source": [
    "## TO DO:\n",
    "  0. Write the right shapes of every instance in the `train_model()`function.\n",
    "  1. Make sure the forward/back propagation in the `train_model()`function works appropriately.\n",
    "  2. Make the `train_model()`function to work with batches.\n",
    "  3. Make predict and evaluate functions\n",
    "\n",
    "*  Check out others people work to get insights."
   ]
  },
  {
   "cell_type": "code",
   "execution_count": 210,
   "id": "1c458819",
   "metadata": {},
   "outputs": [],
   "source": [
    "def train_model(epoches):\n",
    "    X_train_slice = X_train[:10000,:]\n",
    "    y_train_slice = y_train_np[:10000,:]\n",
    "    a1_out = X_train_slice.reshape(10000, 784)\n",
    "\n",
    "    w1 = np.random.uniform(-1,1,(784,10))\n",
    "    bias1 = np.random.uniform(-1,1,(1,10))\n",
    "\n",
    "    w2 = np.random.uniform(-1,1,(10,10))\n",
    "    bias2 = np.random.uniform(-1,1,(1,10))\n",
    "\n",
    "    w3 = np.random.uniform(-1,1,(10,10))\n",
    "    bias3 = np.random.uniform(-1,1,(1,10))\n",
    "\n",
    "    lr = 0.1\n",
    "    E=0\n",
    "    for epoch in range(epoches):\n",
    "        a2_net = np.matmul(a1_out,w1)+bias1\n",
    "        a2_out = sigmoid_func(a2_net)\n",
    "        a3_net = np.matmul(a2_out,w2)+bias2\n",
    "        a3_out = sigmoid_func(a3_net)\n",
    "        a4_net = np.matmul(a3_out,w3)+bias3\n",
    "        a4_out = sigmoid_func(a4_net)\n",
    "        \n",
    "        delta_a4 = (1/y_train_slice.shape[0])*-(y_train_slice - a4_out)*a4_out*(1-a4_out)\n",
    "        E_d_w3 = np.matmul(a3_out.T,delta_a4)\n",
    "        delta_a3 =np.matmul( np.matmul(delta_a4, w3), (np.matmul((1-a3_out.T), a3_out)))\n",
    "        E_d_w2 = np.matmul(a2_out.T,delta_a3)\n",
    "        delta_a2 =np.matmul( np.matmul(delta_a3, w2), (np.matmul((1-a2_out.T), a2_out)))\n",
    "        E_d_w1 = np.matmul(a1_out.T,delta_a2)\n",
    "\n",
    "        w1 -= lr*E_d_w1\n",
    "        w2 -= lr*E_d_w2\n",
    "        w3 -= lr*E_d_w3\n",
    "        bias1-=lr*np.sum(delta_a2, axis=0).reshape(1,10)\n",
    "        bias2-=lr*np.sum(delta_a3, axis=0).reshape(1,10)\n",
    "        bias3-=lr*np.sum(delta_a4, axis=0).reshape(1,10)\n",
    "        if epoch==0:\n",
    "            E_total = (-1/y_train_slice.shape[0])*np.sum(y_train_slice*np.log(a4_out)+(1-y_train_slice)*np.log(1-a4_out))\n",
    "            print(\"the total error before training is: \"+str(E_total))\n",
    "        elif epoch==epoches-1:\n",
    "            E_total = (-1/y_train_slice.shape[0])*np.sum(y_train_slice*np.log(a4_out)+(1-y_train_slice)*np.log(1-a4_out))\n",
    "            print(\"the total error is: \"+str(E_total))\n",
    "    \n",
    "    print(\"a1_out.shape: \"+str(a1_out.shape))\n",
    "    print(\"a2_net.shape: \"+str(a2_net.shape))\n",
    "    print(\"a2_out.shape: \"+str(a2_out.shape))\n",
    "    print(\"a3_net.shape: \"+str(a3_net.shape))\n",
    "    print(\"a3_out.shape: \"+str(a3_out.shape))\n",
    "    print(\"a4_net.shape: \"+str(a4_net.shape))\n",
    "    print(\"a4_out.shape: \"+str(a4_out.shape)+\"\\n\")\n",
    "\n",
    "    print(\"w1.shape: \"+str(w1.shape))\n",
    "    print(\"w2.shape: \"+str(w2.shape))\n",
    "    print(\"w3.shape: \"+str(w3.shape)+\"\\n\")\n",
    "    \n",
    "    print(\"bias1.shape: \"+str(bias1.shape))\n",
    "    print(\"bias2.shape: \"+str(bias2.shape))\n",
    "    print(\"bias3.shape: \"+str(bias3.shape)+\"\\n\")\n",
    "    \n",
    "    print(\"delta_a4.shape: \"+str(delta_a4.shape))\n",
    "    print(\"delta_a3.shape: \"+str(delta_a3.shape))\n",
    "    print(\"delta_a2.shape: \"+str(delta_a2.shape)+\"\\n\")\n",
    "    \n",
    "    print(\"E_d_w1.shape: \"+str(E_d_w1.shape))\n",
    "    print(\"E_d_w2.shape: \"+str(E_d_w2.shape))\n",
    "    print(\"E_d_w3.shape: \"+str(E_d_w3.shape)+\"\\n\")\n",
    "    \n",
    "    return w1, w2, w3, bias1, bias2, bias3\n",
    "    "
   ]
  },
  {
   "cell_type": "code",
   "execution_count": 211,
   "id": "50749f8a",
   "metadata": {},
   "outputs": [
    {
     "name": "stdout",
     "output_type": "stream",
     "text": [
      "the total error before training is: 5.553112954830922\n"
     ]
    },
    {
     "name": "stderr",
     "output_type": "stream",
     "text": [
      "C:\\Users\\naor\\AppData\\Local\\Temp\\ipykernel_2276\\2833449474.py:2: RuntimeWarning: overflow encountered in exp\n",
      "  return 1./(1+np.exp(-x))\n"
     ]
    },
    {
     "name": "stdout",
     "output_type": "stream",
     "text": [
      "the total error is: 3.2483120005853343\n",
      "a1_out.shape: (10000, 784)\n",
      "a2_net.shape: (10000, 10)\n",
      "a2_out.shape: (10000, 10)\n",
      "a3_net.shape: (10000, 10)\n",
      "a3_out.shape: (10000, 10)\n",
      "a4_net.shape: (10000, 10)\n",
      "a4_out.shape: (10000, 10)\n",
      "\n",
      "w1.shape: (784, 10)\n",
      "w2.shape: (10, 10)\n",
      "w3.shape: (10, 10)\n",
      "\n",
      "bias1.shape: (1, 10)\n",
      "bias2.shape: (1, 10)\n",
      "bias3.shape: (1, 10)\n",
      "\n",
      "delta_a4.shape: (10000, 10)\n",
      "delta_a3.shape: (10000, 10)\n",
      "delta_a2.shape: (10000, 10)\n",
      "\n",
      "E_d_w1.shape: (784, 10)\n",
      "E_d_w2.shape: (10, 10)\n",
      "E_d_w3.shape: (10, 10)\n",
      "\n"
     ]
    }
   ],
   "source": [
    "w1, w2, w3, bias1, bias2, bias3 = train_model(1000)"
   ]
  },
  {
   "cell_type": "code",
   "execution_count": 212,
   "id": "f29f5f90",
   "metadata": {},
   "outputs": [],
   "source": [
    "def predict_single(w1, w2, w3, bias1, bias2, bias3, x):\n",
    "    a1_out = x.reshape(x.shape[0], 784)\n",
    "    a2_net = np.matmul(a1_out,w1)+bias1\n",
    "    a2_out = sigmoid_func(a2_net)\n",
    "    a3_net = np.matmul(a2_out,w2)+bias2\n",
    "    a3_out = sigmoid_func(a3_net)\n",
    "    a4_net = np.matmul(a3_out,w3)+bias3\n",
    "    a4_out = sigmoid_func(a4_net)\n",
    "    return a4_out"
   ]
  },
  {
   "cell_type": "code",
   "execution_count": 213,
   "id": "c189b6d6",
   "metadata": {},
   "outputs": [
    {
     "name": "stderr",
     "output_type": "stream",
     "text": [
      "C:\\Users\\naor\\AppData\\Local\\Temp\\ipykernel_2276\\2833449474.py:2: RuntimeWarning: overflow encountered in exp\n",
      "  return 1./(1+np.exp(-x))\n"
     ]
    },
    {
     "data": {
      "text/plain": [
       "array([[0.10009582, 0.11270087, 0.09910639, 0.10320321, 0.09792616,\n",
       "        0.08631766, 0.10140496, 0.10700211, 0.09440575, 0.09780684],\n",
       "       [0.10009582, 0.11270087, 0.09910639, 0.10320321, 0.09792616,\n",
       "        0.08631766, 0.10140496, 0.10700211, 0.09440575, 0.09780684],\n",
       "       [0.10009582, 0.11270087, 0.09910639, 0.10320321, 0.09792616,\n",
       "        0.08631766, 0.10140496, 0.10700211, 0.09440575, 0.09780684],\n",
       "       [0.10009582, 0.11270087, 0.09910639, 0.10320321, 0.09792616,\n",
       "        0.08631766, 0.10140496, 0.10700211, 0.09440575, 0.09780684],\n",
       "       [0.10009582, 0.11270087, 0.09910639, 0.10320321, 0.09792616,\n",
       "        0.08631766, 0.10140496, 0.10700211, 0.09440575, 0.09780684],\n",
       "       [0.10009582, 0.11270087, 0.09910639, 0.10320321, 0.09792616,\n",
       "        0.08631766, 0.10140496, 0.10700211, 0.09440575, 0.09780684]])"
      ]
     },
     "execution_count": 213,
     "metadata": {},
     "output_type": "execute_result"
    }
   ],
   "source": [
    "x = X_train[1:7,:].reshape(6, 784)\n",
    "predict_single(w1, w2, w3, bias1, bias2, bias3, x)\n",
    "#y_train_slice = y_train_np[7,:]\n",
    "#y_train_slice"
   ]
  },
  {
   "cell_type": "code",
   "execution_count": 214,
   "id": "b081c9ee",
   "metadata": {},
   "outputs": [
    {
     "data": {
      "text/plain": [
       "(array([0., 0., 0., 1., 0., 0., 0., 0., 0., 0.]),\n",
       " array([0., 1., 0., 0., 0., 0., 0., 0., 0., 0.]),\n",
       " array([0., 0., 0., 0., 0., 0., 0., 0., 1., 0.]))"
      ]
     },
     "execution_count": 214,
     "metadata": {},
     "output_type": "execute_result"
    }
   ],
   "source": [
    "y_train_np[7,:], y_train_np[24,:], y_train_np[240,:], "
   ]
  },
  {
   "cell_type": "code",
   "execution_count": 215,
   "id": "0722c06b",
   "metadata": {},
   "outputs": [
    {
     "data": {
      "text/plain": [
       "(array([[ 0.1246221 ,  0.09606383, -0.27063643, ..., -0.1741178 ,\n",
       "          0.34093408, -0.14763649],\n",
       "        [ 0.0652797 , -0.66275023,  0.70732009, ...,  0.65768419,\n",
       "          0.10497097,  0.3455933 ],\n",
       "        [ 0.83769621,  0.12394514,  0.57113848, ..., -0.55937214,\n",
       "         -0.23238562, -0.91336351],\n",
       "        ...,\n",
       "        [-0.78944877, -0.26861409, -0.17251863, ..., -0.12657135,\n",
       "         -0.6690374 , -0.34029041],\n",
       "        [-0.75336892,  0.85145056,  0.48923579, ...,  0.87765878,\n",
       "         -0.3138778 , -0.19759256],\n",
       "        [ 0.66077112,  0.01896837,  0.69805711, ..., -0.48014789,\n",
       "          0.28303895,  0.74365284]]),\n",
       " array([[ 20.40064967,  26.05118621,  26.49156239,  23.76656659,\n",
       "          12.19323772,  27.08353817,  14.09910615,  10.54649673,\n",
       "           4.206316  ,  27.25039253],\n",
       "        [ 47.36053526,  62.85687251,  60.84544417,  56.96190227,\n",
       "          30.97481769,  62.91399095,  34.34759989,  23.44739499,\n",
       "          12.11400781,  64.12215338],\n",
       "        [ 97.2643555 , 127.98596542, 126.22700009, 116.44530362,\n",
       "          64.41257914, 129.70249239,  71.31057755,  49.70982187,\n",
       "          23.62548702, 131.70619742],\n",
       "        [ 41.70047895,  55.89317722,  54.81514463,  50.15326344,\n",
       "          27.92823917,  56.10038602,  30.80912146,  21.56131545,\n",
       "          10.65214138,  55.44881496],\n",
       "        [ 78.29774454, 101.97048875, 100.42703884,  92.61431311,\n",
       "          51.90093847, 102.78617535,  55.5801178 ,  39.03474877,\n",
       "          18.57407675, 104.62217814],\n",
       "        [ 85.47817551, 112.23578511, 110.22680865, 101.17904208,\n",
       "          55.56728029, 112.4593191 ,  60.73298124,  44.29130465,\n",
       "          19.75682526, 114.82077624],\n",
       "        [ 32.5987433 ,  44.40340924,  43.30165821,  39.60297652,\n",
       "          22.40287468,  43.46606788,  23.87702907,  16.33910149,\n",
       "           7.53138387,  44.62966928],\n",
       "        [128.84408131, 168.24058248, 165.48570717, 154.00845573,\n",
       "          83.69139181, 169.97269015,  93.06656675,  64.8528484 ,\n",
       "          30.19620038, 172.19202968],\n",
       "        [ 30.52414155,  40.61522284,  38.22039019,  35.13134944,\n",
       "          19.57903862,  39.05804278,  22.06963359,  15.94858256,\n",
       "           7.7836189 ,  40.95223892],\n",
       "        [ 87.67570572, 116.00612964, 113.33749102, 105.85559875,\n",
       "          57.60154563, 117.20579773,  64.01070416,  44.35129922,\n",
       "          20.90207301, 118.03222459]]),\n",
       " array([[ 0.25737929, -0.19411073, -1.09183281, -0.42464055,  0.373184  ,\n",
       "          0.64814689, -0.16086158, -0.73416005,  0.08470478, -0.22419564],\n",
       "        [-0.86305021, -1.12691562, -0.32957537,  0.12559393, -0.43926065,\n",
       "         -0.26163017, -1.24373086,  0.26207259, -0.47510691, -0.54662133],\n",
       "        [ 0.74891144, -0.69520227, -1.12852052, -0.53677158, -0.36831786,\n",
       "         -0.15785475,  0.46161083, -0.99158117, -0.63847712,  0.57095588],\n",
       "        [-0.03127816, -0.84379866, -0.08055117, -0.25201327, -0.65234599,\n",
       "         -0.44156937, -0.65595559,  0.57293138, -0.00820376, -0.80262505],\n",
       "        [-0.50445488,  0.11923758,  0.70350395,  0.52808165,  0.63592254,\n",
       "         -0.73137485, -0.17379957,  0.5421621 , -0.29109533,  0.02023171],\n",
       "        [-0.93435898,  0.31962907,  0.17309985,  0.8047998 ,  0.24941732,\n",
       "         -0.60540535,  0.50821822, -0.76771752, -0.63227181, -0.79069106],\n",
       "        [-0.56646925, -1.17487109, -0.89148198, -0.62696429,  0.09390212,\n",
       "          0.73688921,  0.65607631,  0.58228699,  0.40021756, -0.57798019],\n",
       "        [ 0.04033923,  0.33098351,  0.80597924, -0.58373122, -0.72028808,\n",
       "         -0.78577431, -0.14295886, -0.11230349, -0.5130241 ,  0.11647215],\n",
       "        [ 0.23217884,  0.04603666,  0.40381515, -0.06370259, -0.63470423,\n",
       "         -0.54741944, -1.24807822, -0.134395  ,  0.21282325, -0.2775717 ],\n",
       "        [ 0.12613786,  0.70513274, -0.15859625, -0.67981538, -0.17725153,\n",
       "         -0.68599578,  0.17736325, -0.20782501, -0.00850959,  0.53476324]]),\n",
       " array([[ 245969.63483585, -909209.25930465, -930086.22302809,\n",
       "          -80515.0654    ,  211034.6731305 , -926859.72717345,\n",
       "         -474296.59933656, -210416.56419682,  322442.80211333,\n",
       "         -465383.53710256]]),\n",
       " array([[145.38480921, 190.07310515, 186.18565668, 172.92897011,\n",
       "          94.75589948, 190.53227779, 103.845843  ,  74.87334759,\n",
       "          34.69782353, 195.01768274]]),\n",
       " array([[-0.70149557,  0.45043378, -0.6130333 , -0.45296584, -0.58074035,\n",
       "          0.47253914, -0.35959436, -1.13320651, -0.39204637, -0.24457218]]))"
      ]
     },
     "execution_count": 215,
     "metadata": {},
     "output_type": "execute_result"
    }
   ],
   "source": [
    "w1, w2, w3, bias1, bias2, bias3"
   ]
  },
  {
   "cell_type": "code",
   "execution_count": 216,
   "id": "903305e3",
   "metadata": {},
   "outputs": [
    {
     "data": {
      "text/plain": [
       "array([[4.57661165e-05, 4.57661160e-05, 4.57661188e-05, 4.57661168e-05,\n",
       "        4.57660865e-05, 4.57661192e-05, 4.57661148e-05, 4.57661127e-05,\n",
       "        4.57661202e-05, 4.57660872e-05]])"
      ]
     },
     "execution_count": 216,
     "metadata": {},
     "output_type": "execute_result"
    }
   ],
   "source": [
    "np.sum(delta_a2, axis=0).reshape(1,10)"
   ]
  },
  {
   "cell_type": "markdown",
   "id": "d1f12f60",
   "metadata": {},
   "source": [
    "# This is very important to mention:\n",
    " high values of weights means overfitting\n",
    " and high values of bias means underfitting"
   ]
  },
  {
   "cell_type": "markdown",
   "id": "168285da",
   "metadata": {},
   "source": [
    "maybe i have those weird values on the weights and biases because i need to use a \n",
    "multivariable version of the chain rule instead (of course the cost function is different)"
   ]
  },
  {
   "cell_type": "code",
   "execution_count": null,
   "id": "8014e2bc",
   "metadata": {},
   "outputs": [],
   "source": []
  }
 ],
 "metadata": {
  "kernelspec": {
   "display_name": "Python 3 (ipykernel)",
   "language": "python",
   "name": "python3"
  },
  "language_info": {
   "codemirror_mode": {
    "name": "ipython",
    "version": 3
   },
   "file_extension": ".py",
   "mimetype": "text/x-python",
   "name": "python",
   "nbconvert_exporter": "python",
   "pygments_lexer": "ipython3",
   "version": "3.9.13"
  }
 },
 "nbformat": 4,
 "nbformat_minor": 5
}
